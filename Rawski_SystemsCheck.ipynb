{
 "cells": [
  {
   "cell_type": "markdown",
   "id": "a7deef99-8edc-44ab-9c09-4950ae620ce9",
   "metadata": {},
   "source": [
    "# Systems Check\n",
    "\n",
    "## Morgan Rawski\n",
    "\n",
    "### 8/20/2025\n",
    "\n",
    "In this class, I want to learn: \n",
    "1. How to program Python.\n",
    "2. Better understand the difference between programming languages.\n",
    "3. Better understand the correlation between data science and programming.\n",
    "\n",
    "Being an EMAT major, I think that learning these things will help me to be more versatile for the future career path that I pursue!\n",
    "\n",
    "- I **love** to bake!\n",
    "- Cookies are my favorite thing to bake! *(so that is what explains my image)*\n",
    "\n",
    "![](https://www.kingarthurbaking.com/sites/default/files/styles/featured_image_2x/public/recipe_legacy/6-3-large.jpg?itok=1-WDbjYn)\n",
    "\n",
    "*Photo borrowed from: https://www.kingarthurbaking.com/recipes/classic-chocolate-chip-cookies-recipe*"
   ]
  },
  {
   "cell_type": "code",
   "execution_count": 10,
   "id": "f296378d-eaa0-4660-9188-77f41bd0c430",
   "metadata": {},
   "outputs": [],
   "source": [
    "#This is variable assignment\n",
    "x = 6"
   ]
  },
  {
   "cell_type": "code",
   "execution_count": 11,
   "id": "b005bfea-1d06-4b56-a072-d4571c1a8f84",
   "metadata": {},
   "outputs": [
    {
     "name": "stdout",
     "output_type": "stream",
     "text": [
      "0\n",
      "1\n",
      "2\n",
      "3\n",
      "4\n",
      "5\n",
      "6\n"
     ]
    }
   ],
   "source": [
    "#This is a for loop\n",
    "for x in range(7):\n",
    "    print(x)"
   ]
  },
  {
   "cell_type": "code",
   "execution_count": 12,
   "id": "f8ab7db7-44a5-4e3f-ab33-85bad3f86815",
   "metadata": {},
   "outputs": [
    {
     "name": "stdout",
     "output_type": "stream",
     "text": [
      "34\n"
     ]
    }
   ],
   "source": [
    "#This is a return statement\n",
    "def myfunction():\n",
    "  return 28+6\n",
    "  print(\"Yay Math!\")\n",
    "\n",
    "print(myfunction())"
   ]
  },
  {
   "cell_type": "code",
   "execution_count": 13,
   "id": "ff02adcc-ddae-44b2-bd54-65013ed0ca4a",
   "metadata": {},
   "outputs": [
    {
     "name": "stdin",
     "output_type": "stream",
     "text": [
      "Enter your name:  Morgan\n"
     ]
    },
    {
     "name": "stdout",
     "output_type": "stream",
     "text": [
      "Hello Morgan\n"
     ]
    }
   ],
   "source": [
    "#This is a print statement\n",
    "name = input(\"Enter your name: \")\n",
    "print(\"Hello\", name)"
   ]
  },
  {
   "cell_type": "code",
   "execution_count": null,
   "id": "f906e69b-62b9-4240-b671-b7b5b8f2470f",
   "metadata": {},
   "outputs": [],
   "source": []
  }
 ],
 "metadata": {
  "kernelspec": {
   "display_name": "Python 3 (ipykernel)",
   "language": "python",
   "name": "python3"
  },
  "language_info": {
   "codemirror_mode": {
    "name": "ipython",
    "version": 3
   },
   "file_extension": ".py",
   "mimetype": "text/x-python",
   "name": "python",
   "nbconvert_exporter": "python",
   "pygments_lexer": "ipython3",
   "version": "3.12.11"
  }
 },
 "nbformat": 4,
 "nbformat_minor": 5
}
